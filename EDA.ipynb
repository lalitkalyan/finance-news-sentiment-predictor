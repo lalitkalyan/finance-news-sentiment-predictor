{
 "cells": [
  {
   "cell_type": "markdown",
   "id": "75542148",
   "metadata": {},
   "source": [
    "\n",
    "# Exploratory Data Analysis (EDA)\n",
    "\n",
    "This notebook performs exploratory data analysis on the processed data used in the finance news sentiment predictor project. We inspect the distribution of prices, returns and sentiment scores and compute correlations to guide feature engineering.\n"
   ]
  },
  {
   "cell_type": "code",
   "execution_count": null,
   "id": "b8cc0e96",
   "metadata": {},
   "outputs": [],
   "source": [
    "\n",
    "import pandas as pd\n",
    "import matplotlib.pyplot as plt\n",
    "\n",
    "# Load processed data\n",
    "features = pd.read_csv('../data/processed/features.csv', parse_dates=['date'])\n",
    "\n",
    "# Display basic information\n",
    "features.head()\n"
   ]
  },
  {
   "cell_type": "code",
   "execution_count": null,
   "id": "c95c39b4",
   "metadata": {},
   "outputs": [],
   "source": [
    "\n",
    "# Summary statistics\n",
    "features.describe()\n"
   ]
  },
  {
   "cell_type": "code",
   "execution_count": null,
   "id": "68074962",
   "metadata": {},
   "outputs": [],
   "source": [
    "\n",
    "# Plot close price over time\n",
    "plt.figure(figsize=(10,4))\n",
    "plt.plot(features['date'], features['Close'])\n",
    "plt.title('Close Price over Time')\n",
    "plt.xlabel('Date')\n",
    "plt.ylabel('Price')\n",
    "plt.show()\n"
   ]
  }
 ],
 "metadata": {},
 "nbformat": 4,
 "nbformat_minor": 5
}
