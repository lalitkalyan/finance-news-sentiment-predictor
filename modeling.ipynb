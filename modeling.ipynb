{
 "cells": [
  {
   "cell_type": "markdown",
   "id": "0cf01aa1",
   "metadata": {},
   "source": [
    "\n",
    "# Modeling Walkthrough\n",
    "\n",
    "This notebook demonstrates training and evaluating a simple classifier on the feature engineered dataset. It splits the data into training and test sets, trains a model, evaluates performance and discusses results.\n"
   ]
  },
  {
   "cell_type": "code",
   "execution_count": null,
   "id": "006aa23c",
   "metadata": {},
   "outputs": [],
   "source": [
    "\n",
    "import pandas as pd\n",
    "from sklearn.model_selection import train_test_split\n",
    "from sklearn.ensemble import RandomForestClassifier\n",
    "from sklearn.metrics import accuracy_score, precision_score, recall_score\n",
    "\n",
    "# Load feature data\n",
    "features = pd.read_csv('../data/processed/features.csv', parse_dates=['date'])\n",
    "\n",
    "# Construct target (next-day return direction)\n",
    "features['target'] = (features['returns'].shift(-1) > 0).astype(int)\n",
    "\n",
    "# Drop last row with NaN target\n",
    "features = features.dropna(subset=['target'])\n",
    "\n",
    "X = features[[col for col in features.columns if col not in ['date', 'returns', 'sentiment', 'target']]]\n",
    "y = features['target']\n",
    "\n",
    "# Train/test split\n",
    "X_train, X_test, y_train, y_test = train_test_split(X, y, test_size=0.2, random_state=42)\n",
    "\n",
    "# Train model\n",
    "model = RandomForestClassifier(n_estimators=100, random_state=42)\n",
    "model.fit(X_train, y_train)\n",
    "\n",
    "# Predictions and evaluation\n",
    "preds = model.predict(X_test)\n",
    "print('Accuracy:', accuracy_score(y_test, preds))\n",
    "print('Precision:', precision_score(y_test, preds))\n",
    "print('Recall:', recall_score(y_test, preds))\n"
   ]
  }
 ],
 "metadata": {},
 "nbformat": 4,
 "nbformat_minor": 5
}
